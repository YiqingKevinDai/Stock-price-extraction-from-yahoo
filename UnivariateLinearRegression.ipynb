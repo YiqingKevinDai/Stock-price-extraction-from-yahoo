{
 "cells": [
  {
   "cell_type": "markdown",
   "metadata": {},
   "source": [
    "Method one: from scipy import stats,        then use: stats.linregress(retMkt,retIBM) \n",
    "Method two: import statsmodels.api as sm,   then use: results=sm.OLS(retIBM, retMkt).fit()"
   ]
  },
  {
   "cell_type": "code",
   "execution_count": 82,
   "metadata": {},
   "outputs": [],
   "source": [
    "import datetime as dt\n",
    "import pandas_datareader.data as web\n",
    "import numpy as np\n",
    "from scipy import stats \n",
    "#Define your Start and End Dates\n",
    "start = dt.datetime(2012,1,1)\n",
    "end = dt.datetime(2016,12,31)"
   ]
  },
  {
   "cell_type": "code",
   "execution_count": 85,
   "metadata": {},
   "outputs": [
    {
     "data": {
      "text/plain": [
       "Date\n",
       "2012-01-04    0.023534\n",
       "2012-01-05    0.010219\n",
       "2012-01-06    0.015535\n",
       "2012-01-09   -0.013163\n",
       "2012-01-10    0.003605\n",
       "Name: Close, dtype: float64"
      ]
     },
     "execution_count": 85,
     "metadata": {},
     "output_type": "execute_result"
    }
   ],
   "source": [
    "ticker='MSFT'\n",
    "p =web.DataReader(ticker, 'yahoo', start=start,end=end  )\n",
    "retIBM = (p.Close/p.Close.shift(1)-1).dropna()\n",
    "retIBM.head()"
   ]
  },
  {
   "cell_type": "code",
   "execution_count": 92,
   "metadata": {},
   "outputs": [
    {
     "data": {
      "text/plain": [
       "Date\n",
       "2012-01-04    0.000188\n",
       "2012-01-05    0.002944\n",
       "2012-01-06   -0.002537\n",
       "2012-01-09    0.002262\n",
       "2012-01-10    0.008886\n",
       "Name: Close, dtype: float64"
      ]
     },
     "execution_count": 92,
     "metadata": {},
     "output_type": "execute_result"
    }
   ],
   "source": [
    "ticker='^GSPC'\n",
    "p2 =web.DataReader(ticker, 'yahoo', start=start,end=end  )\n",
    "retMkt = (p2.Close/p2.Close.shift(1)-1).dropna()\n",
    "retMkt.head()"
   ]
  },
  {
   "cell_type": "code",
   "execution_count": 93,
   "metadata": {},
   "outputs": [
    {
     "name": "stdout",
     "output_type": "stream",
     "text": [
      "0.0002443326781263552 1.1135153200786276\n",
      "R-squared= 0.3746685140914817\n",
      "p-value = 4.21060258803468e-130\n"
     ]
    }
   ],
   "source": [
    "(beta,alpha,r_value,p_value,std_err)=stats.linregress(retMkt,retIBM) \n",
    "print(alpha,beta) \n",
    "print(\"R-squared=\", r_value**2)\n",
    "print(\"p-value =\", p_value)"
   ]
  },
  {
   "cell_type": "code",
   "execution_count": 95,
   "metadata": {
    "scrolled": true
   },
   "outputs": [
    {
     "data": {
      "image/png": "[encoded data removed]",
      "text/plain": [
       "<Figure size 432x288 with 1 Axes>"
      ]
     },
     "metadata": {},
     "output_type": "display_data"
    }
   ],
   "source": [
    "import matplotlib.pyplot as plt\n",
    "plt.plot(retMkt, retIBM, 'o', label='original data')\n",
    "plt.plot(retMkt, 0.0002443326781263552 + 1.113515*retMkt, 'r', label='fitted line')\n",
    "plt.legend()\n",
    "plt.show()"
   ]
  },
  {
   "cell_type": "code",
   "execution_count": 96,
   "metadata": {},
   "outputs": [
    {
     "name": "stdout",
     "output_type": "stream",
     "text": [
      "const    0.000244\n",
      "Close    1.113515\n",
      "dtype: float64\n"
     ]
    }
   ],
   "source": [
    "import statsmodels.api as sm\n",
    "\n",
    "retMkt=sm.add_constant(retMkt)\n",
    "results=sm.OLS(retIBM, retMkt).fit()\n",
    "print(results.params)\n",
    "   "
   ]
  },
  {
   "cell_type": "code",
   "execution_count": 97,
   "metadata": {},
   "outputs": [
    {
     "name": "stdout",
     "output_type": "stream",
     "text": [
      "                            OLS Regression Results                            \n",
      "==============================================================================\n",
      "Dep. Variable:                  Close   R-squared:                       0.375\n",
      "Model:                            OLS   Adj. R-squared:                  0.374\n",
      "Method:                 Least Squares   F-statistic:                     751.9\n",
      "Date:                Thu, 06 Sep 2018   Prob (F-statistic):          4.21e-130\n",
      "Time:                        17:20:34   Log-Likelihood:                 3815.8\n",
      "No. Observations:                1257   AIC:                            -7628.\n",
      "Df Residuals:                    1255   BIC:                            -7617.\n",
      "Df Model:                           1                                         \n",
      "Covariance Type:            nonrobust                                         \n",
      "==============================================================================\n",
      "                 coef    std err          t      P>|t|      [0.025      0.975]\n",
      "------------------------------------------------------------------------------\n",
      "const          0.0002      0.000      0.743      0.457      -0.000       0.001\n",
      "Close          1.1135      0.041     27.421      0.000       1.034       1.193\n",
      "==============================================================================\n",
      "Omnibus:                      322.658   Durbin-Watson:                   1.993\n",
      "Prob(Omnibus):                  0.000   Jarque-Bera (JB):            20152.491\n",
      "Skew:                           0.099   Prob(JB):                         0.00\n",
      "Kurtosis:                      22.615   Cond. No.                         124.\n",
      "==============================================================================\n",
      "\n",
      "Warnings:\n",
      "[1] Standard Errors assume that the covariance matrix of the errors is correctly specified.\n"
     ]
    }
   ],
   "source": [
    "print(results.summary())"
   ]
  },
  {
   "cell_type": "code",
   "execution_count": 98,
   "metadata": {},
   "outputs": [
    {
     "name": "stdout",
     "output_type": "stream",
     "text": [
      "Help on module statsmodels.api in statsmodels:\n",
      "\n",
      "NAME\n",
      "    statsmodels.api - Statistical models\n",
      "\n",
      "DESCRIPTION\n",
      "     - standard `regression` models\n",
      "    \n",
      "      - `GLS` (generalized least squares regression)\n",
      "      - `OLS` (ordinary least square regression)\n",
      "      - `WLS` (weighted least square regression)\n",
      "      - `GLASAR` (GLS with autoregressive errors model)\n",
      "    \n",
      "     - `GLM` (generalized linear models)\n",
      "     - robust statistical models\n",
      "    \n",
      "      - `RLM` (robust linear models using M estimators)\n",
      "      - `robust.norms` estimates\n",
      "      - `robust.scale` estimates (MAD, Huber's proposal 2).\n",
      "     - sandbox models\n",
      "      - `mixed` effects models\n",
      "      - `gam` (generalized additive models)\n",
      "\n",
      "DATA\n",
      "    test = <statsmodels.__init__.PytestTester object>\n",
      "\n",
      "FILE\n",
      "    c:\\users\\kevindai\\anaconda3\\lib\\site-packages\\statsmodels\\api.py\n",
      "\n",
      "\n"
     ]
    }
   ],
   "source": [
    "help(sm)"
   ]
  },
  {
   "cell_type": "code",
   "execution_count": null,
   "metadata": {},
   "outputs": [],
   "source": []
  }
 ],
 "metadata": {
  "kernelspec": {
   "display_name": "Python 3",
   "language": "python",
   "name": "python3"
  },
  "language_info": {
   "codemirror_mode": {
    "name": "ipython",
    "version": 3
   },
   "file_extension": ".py",
   "mimetype": "text/x-python",
   "name": "python",
   "nbconvert_exporter": "python",
   "pygments_lexer": "ipython3",
   "version": "3.6.5"
  }
 },
 "nbformat": 4,
 "nbformat_minor": 2
}
