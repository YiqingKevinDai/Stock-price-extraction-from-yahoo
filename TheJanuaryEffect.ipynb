{
 "cells": [
  {
   "cell_type": "code",
   "execution_count": 14,
   "metadata": {},
   "outputs": [],
   "source": [
    "import pandas as pd\n",
    "import numpy as np\n",
    "import statsmodels.api as sm\n",
    "import datetime as dt\n",
    "import pandas_datareader.data as web\n",
    "import scipy as sp"
   ]
  },
  {
   "cell_type": "code",
   "execution_count": 22,
   "metadata": {},
   "outputs": [
    {
     "data": {
      "text/html": [
       "<div>\n",
       "<style scoped>\n",
       "    .dataframe tbody tr th:only-of-type {\n",
       "        vertical-align: middle;\n",
       "    }\n",
       "\n",
       "    .dataframe tbody tr th {\n",
       "        vertical-align: top;\n",
       "    }\n",
       "\n",
       "    .dataframe thead th {\n",
       "        text-align: right;\n",
       "    }\n",
       "</style>\n",
       "<table border=\"1\" class=\"dataframe\">\n",
       "  <thead>\n",
       "    <tr style=\"text-align: right;\">\n",
       "      <th></th>\n",
       "      <th>High</th>\n",
       "      <th>Low</th>\n",
       "      <th>Open</th>\n",
       "      <th>Close</th>\n",
       "      <th>Volume</th>\n",
       "      <th>Adj Close</th>\n",
       "    </tr>\n",
       "    <tr>\n",
       "      <th>Date</th>\n",
       "      <th></th>\n",
       "      <th></th>\n",
       "      <th></th>\n",
       "      <th></th>\n",
       "      <th></th>\n",
       "      <th></th>\n",
       "    </tr>\n",
       "  </thead>\n",
       "  <tbody>\n",
       "    <tr>\n",
       "      <th>2018-08-31</th>\n",
       "      <td>177.619995</td>\n",
       "      <td>174.979996</td>\n",
       "      <td>177.149994</td>\n",
       "      <td>175.729996</td>\n",
       "      <td>18065200</td>\n",
       "      <td>175.729996</td>\n",
       "    </tr>\n",
       "    <tr>\n",
       "      <th>2018-09-04</th>\n",
       "      <td>173.889999</td>\n",
       "      <td>168.800003</td>\n",
       "      <td>173.500000</td>\n",
       "      <td>171.160004</td>\n",
       "      <td>29809000</td>\n",
       "      <td>171.160004</td>\n",
       "    </tr>\n",
       "    <tr>\n",
       "      <th>2018-09-05</th>\n",
       "      <td>171.130005</td>\n",
       "      <td>166.669998</td>\n",
       "      <td>169.490005</td>\n",
       "      <td>167.179993</td>\n",
       "      <td>31226700</td>\n",
       "      <td>167.179993</td>\n",
       "    </tr>\n",
       "    <tr>\n",
       "      <th>2018-09-06</th>\n",
       "      <td>166.979996</td>\n",
       "      <td>160.000000</td>\n",
       "      <td>166.979996</td>\n",
       "      <td>162.529999</td>\n",
       "      <td>41514800</td>\n",
       "      <td>162.529999</td>\n",
       "    </tr>\n",
       "    <tr>\n",
       "      <th>2018-09-07</th>\n",
       "      <td>164.630005</td>\n",
       "      <td>160.160004</td>\n",
       "      <td>160.309998</td>\n",
       "      <td>163.039993</td>\n",
       "      <td>24154100</td>\n",
       "      <td>163.039993</td>\n",
       "    </tr>\n",
       "  </tbody>\n",
       "</table>\n",
       "</div>"
      ],
      "text/plain": [
       "                  High         Low        Open       Close    Volume  \\\n",
       "Date                                                                   \n",
       "2018-08-31  177.619995  174.979996  177.149994  175.729996  18065200   \n",
       "2018-09-04  173.889999  168.800003  173.500000  171.160004  29809000   \n",
       "2018-09-05  171.130005  166.669998  169.490005  167.179993  31226700   \n",
       "2018-09-06  166.979996  160.000000  166.979996  162.529999  41514800   \n",
       "2018-09-07  164.630005  160.160004  160.309998  163.039993  24154100   \n",
       "\n",
       "             Adj Close  \n",
       "Date                    \n",
       "2018-08-31  175.729996  \n",
       "2018-09-04  171.160004  \n",
       "2018-09-05  167.179993  \n",
       "2018-09-06  162.529999  \n",
       "2018-09-07  163.039993  "
      ]
     },
     "execution_count": 22,
     "metadata": {},
     "output_type": "execute_result"
    }
   ],
   "source": [
    "start = dt.datetime(1971,1,1)\n",
    "ticker='FB'\n",
    "df =web.DataReader(ticker, 'yahoo', start=start )\n",
    "df.tail()"
   ]
  },
  {
   "cell_type": "code",
   "execution_count": 23,
   "metadata": {},
   "outputs": [
    {
     "data": {
      "text/html": [
       "<div>\n",
       "<style scoped>\n",
       "    .dataframe tbody tr th:only-of-type {\n",
       "        vertical-align: middle;\n",
       "    }\n",
       "\n",
       "    .dataframe tbody tr th {\n",
       "        vertical-align: top;\n",
       "    }\n",
       "\n",
       "    .dataframe thead th {\n",
       "        text-align: right;\n",
       "    }\n",
       "</style>\n",
       "<table border=\"1\" class=\"dataframe\">\n",
       "  <thead>\n",
       "    <tr style=\"text-align: right;\">\n",
       "      <th></th>\n",
       "      <th>High</th>\n",
       "      <th>Low</th>\n",
       "      <th>Open</th>\n",
       "      <th>Close</th>\n",
       "      <th>Volume</th>\n",
       "      <th>Adj Close</th>\n",
       "    </tr>\n",
       "    <tr>\n",
       "      <th>Date</th>\n",
       "      <th></th>\n",
       "      <th></th>\n",
       "      <th></th>\n",
       "      <th></th>\n",
       "      <th></th>\n",
       "      <th></th>\n",
       "    </tr>\n",
       "  </thead>\n",
       "  <tbody>\n",
       "    <tr>\n",
       "      <th>2012-05-31</th>\n",
       "      <td>29.670000</td>\n",
       "      <td>26.830000</td>\n",
       "      <td>28.549999</td>\n",
       "      <td>29.600000</td>\n",
       "      <td>111639200.0</td>\n",
       "      <td>29.600000</td>\n",
       "    </tr>\n",
       "    <tr>\n",
       "      <th>2012-06-29</th>\n",
       "      <td>31.990000</td>\n",
       "      <td>30.760000</td>\n",
       "      <td>31.920000</td>\n",
       "      <td>31.100000</td>\n",
       "      <td>19526900.0</td>\n",
       "      <td>31.100000</td>\n",
       "    </tr>\n",
       "    <tr>\n",
       "      <th>2012-07-31</th>\n",
       "      <td>23.370001</td>\n",
       "      <td>21.610001</td>\n",
       "      <td>23.370001</td>\n",
       "      <td>21.709999</td>\n",
       "      <td>56179400.0</td>\n",
       "      <td>21.709999</td>\n",
       "    </tr>\n",
       "    <tr>\n",
       "      <th>2012-08-31</th>\n",
       "      <td>18.700001</td>\n",
       "      <td>18.030001</td>\n",
       "      <td>18.680000</td>\n",
       "      <td>18.059999</td>\n",
       "      <td>58764200.0</td>\n",
       "      <td>18.059999</td>\n",
       "    </tr>\n",
       "    <tr>\n",
       "      <th>2012-09-28</th>\n",
       "      <td>21.950001</td>\n",
       "      <td>20.500000</td>\n",
       "      <td>20.570000</td>\n",
       "      <td>21.660000</td>\n",
       "      <td>65486000.0</td>\n",
       "      <td>21.660000</td>\n",
       "    </tr>\n",
       "  </tbody>\n",
       "</table>\n",
       "</div>"
      ],
      "text/plain": [
       "                 High        Low       Open      Close       Volume  Adj Close\n",
       "Date                                                                          \n",
       "2012-05-31  29.670000  26.830000  28.549999  29.600000  111639200.0  29.600000\n",
       "2012-06-29  31.990000  30.760000  31.920000  31.100000   19526900.0  31.100000\n",
       "2012-07-31  23.370001  21.610001  23.370001  21.709999   56179400.0  21.709999\n",
       "2012-08-31  18.700001  18.030001  18.680000  18.059999   58764200.0  18.059999\n",
       "2012-09-28  21.950001  20.500000  20.570000  21.660000   65486000.0  21.660000"
      ]
     },
     "execution_count": 23,
     "metadata": {},
     "output_type": "execute_result"
    }
   ],
   "source": [
    "monthly = df.asfreq('BM')\n",
    "monthly.head()"
   ]
  },
  {
   "cell_type": "code",
   "execution_count": 24,
   "metadata": {},
   "outputs": [
    {
     "data": {
      "text/html": [
       "<div>\n",
       "<style scoped>\n",
       "    .dataframe tbody tr th:only-of-type {\n",
       "        vertical-align: middle;\n",
       "    }\n",
       "\n",
       "    .dataframe tbody tr th {\n",
       "        vertical-align: top;\n",
       "    }\n",
       "\n",
       "    .dataframe thead th {\n",
       "        text-align: right;\n",
       "    }\n",
       "</style>\n",
       "<table border=\"1\" class=\"dataframe\">\n",
       "  <thead>\n",
       "    <tr style=\"text-align: right;\">\n",
       "      <th></th>\n",
       "      <th>High</th>\n",
       "      <th>Low</th>\n",
       "      <th>Open</th>\n",
       "      <th>Close</th>\n",
       "      <th>Volume</th>\n",
       "      <th>Adj Close</th>\n",
       "      <th>ret</th>\n",
       "    </tr>\n",
       "    <tr>\n",
       "      <th>Date</th>\n",
       "      <th></th>\n",
       "      <th></th>\n",
       "      <th></th>\n",
       "      <th></th>\n",
       "      <th></th>\n",
       "      <th></th>\n",
       "      <th></th>\n",
       "    </tr>\n",
       "  </thead>\n",
       "  <tbody>\n",
       "    <tr>\n",
       "      <th>2012-06-29</th>\n",
       "      <td>31.990000</td>\n",
       "      <td>30.760000</td>\n",
       "      <td>31.920000</td>\n",
       "      <td>31.100000</td>\n",
       "      <td>19526900.0</td>\n",
       "      <td>31.100000</td>\n",
       "      <td>5.067568</td>\n",
       "    </tr>\n",
       "    <tr>\n",
       "      <th>2012-07-31</th>\n",
       "      <td>23.370001</td>\n",
       "      <td>21.610001</td>\n",
       "      <td>23.370001</td>\n",
       "      <td>21.709999</td>\n",
       "      <td>56179400.0</td>\n",
       "      <td>21.709999</td>\n",
       "      <td>-30.192930</td>\n",
       "    </tr>\n",
       "    <tr>\n",
       "      <th>2012-08-31</th>\n",
       "      <td>18.700001</td>\n",
       "      <td>18.030001</td>\n",
       "      <td>18.680000</td>\n",
       "      <td>18.059999</td>\n",
       "      <td>58764200.0</td>\n",
       "      <td>18.059999</td>\n",
       "      <td>-16.812528</td>\n",
       "    </tr>\n",
       "    <tr>\n",
       "      <th>2012-09-28</th>\n",
       "      <td>21.950001</td>\n",
       "      <td>20.500000</td>\n",
       "      <td>20.570000</td>\n",
       "      <td>21.660000</td>\n",
       "      <td>65486000.0</td>\n",
       "      <td>21.660000</td>\n",
       "      <td>19.933558</td>\n",
       "    </tr>\n",
       "    <tr>\n",
       "      <th>2012-10-31</th>\n",
       "      <td>21.500000</td>\n",
       "      <td>20.730000</td>\n",
       "      <td>20.820000</td>\n",
       "      <td>21.110001</td>\n",
       "      <td>99378200.0</td>\n",
       "      <td>21.110001</td>\n",
       "      <td>-2.539239</td>\n",
       "    </tr>\n",
       "  </tbody>\n",
       "</table>\n",
       "</div>"
      ],
      "text/plain": [
       "                 High        Low       Open      Close      Volume  Adj Close  \\\n",
       "Date                                                                            \n",
       "2012-06-29  31.990000  30.760000  31.920000  31.100000  19526900.0  31.100000   \n",
       "2012-07-31  23.370001  21.610001  23.370001  21.709999  56179400.0  21.709999   \n",
       "2012-08-31  18.700001  18.030001  18.680000  18.059999  58764200.0  18.059999   \n",
       "2012-09-28  21.950001  20.500000  20.570000  21.660000  65486000.0  21.660000   \n",
       "2012-10-31  21.500000  20.730000  20.820000  21.110001  99378200.0  21.110001   \n",
       "\n",
       "                  ret  \n",
       "Date                   \n",
       "2012-06-29   5.067568  \n",
       "2012-07-31 -30.192930  \n",
       "2012-08-31 -16.812528  \n",
       "2012-09-28  19.933558  \n",
       "2012-10-31  -2.539239  "
      ]
     },
     "execution_count": 24,
     "metadata": {},
     "output_type": "execute_result"
    }
   ],
   "source": [
    "monthly['ret'] = ((monthly['Adj Close'] / monthly['Adj Close'].shift(1)) - 1)*100\n",
    "monthly2 = monthly.dropna()\n",
    "monthly2.head()"
   ]
  },
  {
   "cell_type": "code",
   "execution_count": 25,
   "metadata": {},
   "outputs": [],
   "source": [
    "ret_Jan = monthly2['ret'][monthly2.index.month == 1]\n",
    "ret_Others = monthly2['ret'][monthly2.index.month != 1]"
   ]
  },
  {
   "cell_type": "code",
   "execution_count": 26,
   "metadata": {},
   "outputs": [
    {
     "data": {
      "text/plain": [
       "(9.093909784432652, 2.542965265233647)"
      ]
     },
     "execution_count": 26,
     "metadata": {},
     "output_type": "execute_result"
    }
   ],
   "source": [
    "ret_Jan.mean(),  ret_Others.mean()"
   ]
  },
  {
   "cell_type": "code",
   "execution_count": 28,
   "metadata": {},
   "outputs": [
    {
     "data": {
      "text/plain": [
       "Ttest_indResult(statistic=1.4487004335479727, pvalue=0.15195066799631554)"
      ]
     },
     "execution_count": 28,
     "metadata": {},
     "output_type": "execute_result"
    }
   ],
   "source": [
    "sp.stats.ttest_ind(ret_Jan, ret_Others)"
   ]
  },
  {
   "cell_type": "code",
   "execution_count": 20,
   "metadata": {},
   "outputs": [],
   "source": [
    "stat, p_val = sp.stats.ttest_ind(ret_Jan, ret_Others)"
   ]
  },
  {
   "cell_type": "code",
   "execution_count": 21,
   "metadata": {},
   "outputs": [
    {
     "name": "stdout",
     "output_type": "stream",
     "text": [
      "2.1269599772955248\n"
     ]
    }
   ],
   "source": []
  },
  {
   "cell_type": "code",
   "execution_count": null,
   "metadata": {},
   "outputs": [],
   "source": []
  }
 ],
 "metadata": {
  "kernelspec": {
   "display_name": "Python 3",
   "language": "python",
   "name": "python3"
  },
  "language_info": {
   "codemirror_mode": {
    "name": "ipython",
    "version": 3
   },
   "file_extension": ".py",
   "mimetype": "text/x-python",
   "name": "python",
   "nbconvert_exporter": "python",
   "pygments_lexer": "ipython3",
   "version": "3.6.5"
  }
 },
 "nbformat": 4,
 "nbformat_minor": 2
}
